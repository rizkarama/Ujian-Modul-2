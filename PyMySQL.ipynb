{
 "metadata": {
  "language_info": {
   "codemirror_mode": {
    "name": "ipython",
    "version": 3
   },
   "file_extension": ".py",
   "mimetype": "text/x-python",
   "name": "python",
   "nbconvert_exporter": "python",
   "pygments_lexer": "ipython3",
   "version": "3.8.3-final"
  },
  "orig_nbformat": 2,
  "kernelspec": {
   "name": "python3",
   "display_name": "Python 3",
   "language": "python"
  }
 },
 "nbformat": 4,
 "nbformat_minor": 2,
 "cells": [
  {
   "cell_type": "code",
   "execution_count": 1,
   "metadata": {},
   "outputs": [],
   "source": [
    "import numpy as np\n",
    "import pandas as pd\n",
    "import mysql.connector"
   ]
  },
  {
   "cell_type": "code",
   "execution_count": 2,
   "metadata": {},
   "outputs": [],
   "source": [
    "mydb= mysql.connector.connect(\n",
    "    host='localhost',\n",
    "    user='root',\n",
    "    passwd='rama16rra',\n",
    "    database='sakila'\n",
    ")"
   ]
  },
  {
   "cell_type": "code",
   "execution_count": 3,
   "metadata": {},
   "outputs": [
    {
     "output_type": "execute_result",
     "data": {
      "text/plain": [
       "              Tables_in_sakila  Table_type\n",
       "0                        actor  BASE TABLE\n",
       "1                   actor_info        VIEW\n",
       "2                      address  BASE TABLE\n",
       "3                     category  BASE TABLE\n",
       "4                         city  BASE TABLE\n",
       "5                      country  BASE TABLE\n",
       "6                     customer  BASE TABLE\n",
       "7                customer_list        VIEW\n",
       "8                         film  BASE TABLE\n",
       "9                   film_actor  BASE TABLE\n",
       "10               film_category  BASE TABLE\n",
       "11                   film_list        VIEW\n",
       "12                   film_text  BASE TABLE\n",
       "13                   inventory  BASE TABLE\n",
       "14                    language  BASE TABLE\n",
       "15  nicer_but_slower_film_list        VIEW\n",
       "16                     payment  BASE TABLE\n",
       "17                      rental  BASE TABLE\n",
       "18      sales_by_film_category        VIEW\n",
       "19              sales_by_store        VIEW\n",
       "20                       staff  BASE TABLE\n",
       "21                  staff_list        VIEW\n",
       "22                       store  BASE TABLE"
      ],
      "text/html": "<div>\n<style scoped>\n    .dataframe tbody tr th:only-of-type {\n        vertical-align: middle;\n    }\n\n    .dataframe tbody tr th {\n        vertical-align: top;\n    }\n\n    .dataframe thead th {\n        text-align: right;\n    }\n</style>\n<table border=\"1\" class=\"dataframe\">\n  <thead>\n    <tr style=\"text-align: right;\">\n      <th></th>\n      <th>Tables_in_sakila</th>\n      <th>Table_type</th>\n    </tr>\n  </thead>\n  <tbody>\n    <tr>\n      <th>0</th>\n      <td>actor</td>\n      <td>BASE TABLE</td>\n    </tr>\n    <tr>\n      <th>1</th>\n      <td>actor_info</td>\n      <td>VIEW</td>\n    </tr>\n    <tr>\n      <th>2</th>\n      <td>address</td>\n      <td>BASE TABLE</td>\n    </tr>\n    <tr>\n      <th>3</th>\n      <td>category</td>\n      <td>BASE TABLE</td>\n    </tr>\n    <tr>\n      <th>4</th>\n      <td>city</td>\n      <td>BASE TABLE</td>\n    </tr>\n    <tr>\n      <th>5</th>\n      <td>country</td>\n      <td>BASE TABLE</td>\n    </tr>\n    <tr>\n      <th>6</th>\n      <td>customer</td>\n      <td>BASE TABLE</td>\n    </tr>\n    <tr>\n      <th>7</th>\n      <td>customer_list</td>\n      <td>VIEW</td>\n    </tr>\n    <tr>\n      <th>8</th>\n      <td>film</td>\n      <td>BASE TABLE</td>\n    </tr>\n    <tr>\n      <th>9</th>\n      <td>film_actor</td>\n      <td>BASE TABLE</td>\n    </tr>\n    <tr>\n      <th>10</th>\n      <td>film_category</td>\n      <td>BASE TABLE</td>\n    </tr>\n    <tr>\n      <th>11</th>\n      <td>film_list</td>\n      <td>VIEW</td>\n    </tr>\n    <tr>\n      <th>12</th>\n      <td>film_text</td>\n      <td>BASE TABLE</td>\n    </tr>\n    <tr>\n      <th>13</th>\n      <td>inventory</td>\n      <td>BASE TABLE</td>\n    </tr>\n    <tr>\n      <th>14</th>\n      <td>language</td>\n      <td>BASE TABLE</td>\n    </tr>\n    <tr>\n      <th>15</th>\n      <td>nicer_but_slower_film_list</td>\n      <td>VIEW</td>\n    </tr>\n    <tr>\n      <th>16</th>\n      <td>payment</td>\n      <td>BASE TABLE</td>\n    </tr>\n    <tr>\n      <th>17</th>\n      <td>rental</td>\n      <td>BASE TABLE</td>\n    </tr>\n    <tr>\n      <th>18</th>\n      <td>sales_by_film_category</td>\n      <td>VIEW</td>\n    </tr>\n    <tr>\n      <th>19</th>\n      <td>sales_by_store</td>\n      <td>VIEW</td>\n    </tr>\n    <tr>\n      <th>20</th>\n      <td>staff</td>\n      <td>BASE TABLE</td>\n    </tr>\n    <tr>\n      <th>21</th>\n      <td>staff_list</td>\n      <td>VIEW</td>\n    </tr>\n    <tr>\n      <th>22</th>\n      <td>store</td>\n      <td>BASE TABLE</td>\n    </tr>\n  </tbody>\n</table>\n</div>"
     },
     "metadata": {},
     "execution_count": 3
    }
   ],
   "source": [
    "mycursor= mydb.cursor()\n",
    "mycursor.execute('''\n",
    "show full tables\n",
    "''')\n",
    "myresult= mycursor.fetchall()\n",
    "columns= mycursor.column_names\n",
    "tables= pd.DataFrame(myresult, columns=columns)\n",
    "tables"
   ]
  },
  {
   "cell_type": "code",
   "execution_count": 29,
   "metadata": {},
   "outputs": [
    {
     "output_type": "execute_result",
     "data": {
      "text/plain": [
       "   film_id             title  \\\n",
       "0        1  ACADEMY DINOSAUR   \n",
       "1        2    ACE GOLDFINGER   \n",
       "\n",
       "                                         description  release_year  \\\n",
       "0  A Epic Drama of a Feminist And a Mad Scientist...          2006   \n",
       "1  A Astounding Epistle of a Database Administrat...          2006   \n",
       "\n",
       "   language_id original_language_id  rental_duration rental_rate  length  \\\n",
       "0            1                 None                6        0.99      86   \n",
       "1            1                 None                3        4.99      48   \n",
       "\n",
       "  replacement_cost rating                     special_features  \\\n",
       "0            20.99     PG  {Behind the Scenes, Deleted Scenes}   \n",
       "1            12.99      G           {Deleted Scenes, Trailers}   \n",
       "\n",
       "          last_update  \n",
       "0 2006-02-15 05:03:42  \n",
       "1 2006-02-15 05:03:42  "
      ],
      "text/html": "<div>\n<style scoped>\n    .dataframe tbody tr th:only-of-type {\n        vertical-align: middle;\n    }\n\n    .dataframe tbody tr th {\n        vertical-align: top;\n    }\n\n    .dataframe thead th {\n        text-align: right;\n    }\n</style>\n<table border=\"1\" class=\"dataframe\">\n  <thead>\n    <tr style=\"text-align: right;\">\n      <th></th>\n      <th>film_id</th>\n      <th>title</th>\n      <th>description</th>\n      <th>release_year</th>\n      <th>language_id</th>\n      <th>original_language_id</th>\n      <th>rental_duration</th>\n      <th>rental_rate</th>\n      <th>length</th>\n      <th>replacement_cost</th>\n      <th>rating</th>\n      <th>special_features</th>\n      <th>last_update</th>\n    </tr>\n  </thead>\n  <tbody>\n    <tr>\n      <th>0</th>\n      <td>1</td>\n      <td>ACADEMY DINOSAUR</td>\n      <td>A Epic Drama of a Feminist And a Mad Scientist...</td>\n      <td>2006</td>\n      <td>1</td>\n      <td>None</td>\n      <td>6</td>\n      <td>0.99</td>\n      <td>86</td>\n      <td>20.99</td>\n      <td>PG</td>\n      <td>{Behind the Scenes, Deleted Scenes}</td>\n      <td>2006-02-15 05:03:42</td>\n    </tr>\n    <tr>\n      <th>1</th>\n      <td>2</td>\n      <td>ACE GOLDFINGER</td>\n      <td>A Astounding Epistle of a Database Administrat...</td>\n      <td>2006</td>\n      <td>1</td>\n      <td>None</td>\n      <td>3</td>\n      <td>4.99</td>\n      <td>48</td>\n      <td>12.99</td>\n      <td>G</td>\n      <td>{Deleted Scenes, Trailers}</td>\n      <td>2006-02-15 05:03:42</td>\n    </tr>\n  </tbody>\n</table>\n</div>"
     },
     "metadata": {},
     "execution_count": 29
    }
   ],
   "source": [
    "mycursor= mydb.cursor()\n",
    "mycursor.execute('''\n",
    "select * from film limit 2\n",
    "''')\n",
    "myresult= mycursor.fetchall()\n",
    "columns= mycursor.column_names\n",
    "tables= pd.DataFrame(myresult, columns=columns)\n",
    "tables"
   ]
  },
  {
   "cell_type": "code",
   "execution_count": 45,
   "metadata": {},
   "outputs": [
    {
     "output_type": "execute_result",
     "data": {
      "text/plain": [
       "   actor_id first_name last_name         last_update\n",
       "0         1   PENELOPE   GUINESS 2006-02-15 04:34:33\n",
       "1         2       NICK  WAHLBERG 2006-02-15 04:34:33"
      ],
      "text/html": "<div>\n<style scoped>\n    .dataframe tbody tr th:only-of-type {\n        vertical-align: middle;\n    }\n\n    .dataframe tbody tr th {\n        vertical-align: top;\n    }\n\n    .dataframe thead th {\n        text-align: right;\n    }\n</style>\n<table border=\"1\" class=\"dataframe\">\n  <thead>\n    <tr style=\"text-align: right;\">\n      <th></th>\n      <th>actor_id</th>\n      <th>first_name</th>\n      <th>last_name</th>\n      <th>last_update</th>\n    </tr>\n  </thead>\n  <tbody>\n    <tr>\n      <th>0</th>\n      <td>1</td>\n      <td>PENELOPE</td>\n      <td>GUINESS</td>\n      <td>2006-02-15 04:34:33</td>\n    </tr>\n    <tr>\n      <th>1</th>\n      <td>2</td>\n      <td>NICK</td>\n      <td>WAHLBERG</td>\n      <td>2006-02-15 04:34:33</td>\n    </tr>\n  </tbody>\n</table>\n</div>"
     },
     "metadata": {},
     "execution_count": 45
    }
   ],
   "source": [
    "mycursor= mydb.cursor()\n",
    "mycursor.execute('''\n",
    "select * from actor limit 2\n",
    "''')\n",
    "myresult= mycursor.fetchall()\n",
    "columns= mycursor.column_names\n",
    "tables= pd.DataFrame(myresult, columns=columns)\n",
    "tables"
   ]
  },
  {
   "cell_type": "code",
   "execution_count": 46,
   "metadata": {},
   "outputs": [
    {
     "output_type": "execute_result",
     "data": {
      "text/plain": [
       "   actor_id  film_id         last_update\n",
       "0         1        1 2006-02-15 05:05:03\n",
       "1         1       23 2006-02-15 05:05:03"
      ],
      "text/html": "<div>\n<style scoped>\n    .dataframe tbody tr th:only-of-type {\n        vertical-align: middle;\n    }\n\n    .dataframe tbody tr th {\n        vertical-align: top;\n    }\n\n    .dataframe thead th {\n        text-align: right;\n    }\n</style>\n<table border=\"1\" class=\"dataframe\">\n  <thead>\n    <tr style=\"text-align: right;\">\n      <th></th>\n      <th>actor_id</th>\n      <th>film_id</th>\n      <th>last_update</th>\n    </tr>\n  </thead>\n  <tbody>\n    <tr>\n      <th>0</th>\n      <td>1</td>\n      <td>1</td>\n      <td>2006-02-15 05:05:03</td>\n    </tr>\n    <tr>\n      <th>1</th>\n      <td>1</td>\n      <td>23</td>\n      <td>2006-02-15 05:05:03</td>\n    </tr>\n  </tbody>\n</table>\n</div>"
     },
     "metadata": {},
     "execution_count": 46
    }
   ],
   "source": [
    "mycursor= mydb.cursor()\n",
    "mycursor.execute('''\n",
    "select * from film_actor limit 2\n",
    "''')\n",
    "myresult= mycursor.fetchall()\n",
    "columns= mycursor.column_names\n",
    "tables= pd.DataFrame(myresult, columns=columns)\n",
    "tables"
   ]
  },
  {
   "cell_type": "code",
   "execution_count": 57,
   "metadata": {},
   "outputs": [
    {
     "output_type": "execute_result",
     "data": {
      "text/plain": [
       "   category_id       name         last_update\n",
       "0            1     Action 2006-02-15 04:46:27\n",
       "1            2  Animation 2006-02-15 04:46:27"
      ],
      "text/html": "<div>\n<style scoped>\n    .dataframe tbody tr th:only-of-type {\n        vertical-align: middle;\n    }\n\n    .dataframe tbody tr th {\n        vertical-align: top;\n    }\n\n    .dataframe thead th {\n        text-align: right;\n    }\n</style>\n<table border=\"1\" class=\"dataframe\">\n  <thead>\n    <tr style=\"text-align: right;\">\n      <th></th>\n      <th>category_id</th>\n      <th>name</th>\n      <th>last_update</th>\n    </tr>\n  </thead>\n  <tbody>\n    <tr>\n      <th>0</th>\n      <td>1</td>\n      <td>Action</td>\n      <td>2006-02-15 04:46:27</td>\n    </tr>\n    <tr>\n      <th>1</th>\n      <td>2</td>\n      <td>Animation</td>\n      <td>2006-02-15 04:46:27</td>\n    </tr>\n  </tbody>\n</table>\n</div>"
     },
     "metadata": {},
     "execution_count": 57
    }
   ],
   "source": [
    "mycursor= mydb.cursor()\n",
    "mycursor.execute('''\n",
    "select * from category limit 2\n",
    "''')\n",
    "myresult= mycursor.fetchall()\n",
    "columns= mycursor.column_names\n",
    "tables= pd.DataFrame(myresult, columns=columns)\n",
    "tables"
   ]
  },
  {
   "source": [
    "# 1\n",
    "Soal : Buatlah file jupyter (.ipynb) bernama PyMySQL dan buat connection Python dengan server MySQL Anda, lalu gunakan database sakila. Tuliskan langkah-langkah/query MySQL dan tampilkan hasilnya berupa DataFrame. Anda dilarang membuat database baru, merubah struktur table, membuat view atau segala bentuk tindakan yang mengubah struktur database.\n",
    "\n",
    "Tampilkan daftar 10 film komedi dengan durasi tersingkat. Urutkan data berdasarkan film dengan urasi terpendek. Kolom yang diwajibkan tampil adalah title, category dan length. Output yang diharapkan:"
   ],
   "cell_type": "markdown",
   "metadata": {}
  },
  {
   "cell_type": "code",
   "execution_count": 19,
   "metadata": {},
   "outputs": [
    {
     "output_type": "execute_result",
     "data": {
      "text/plain": [
       "              title category  leght\n",
       "0   DOWNHILL ENOUGH   Comedy     47\n",
       "1  PARADISE SABRINA   Comedy     48\n",
       "2    HEAVEN FREEDOM   Comedy     48\n",
       "3  HURRICANE AFFAIR   Comedy     49\n",
       "4        LION UNCUT   Comedy     50\n",
       "5         ZORRO ARK   Comedy     50\n",
       "6       CLOSER BANG   Comedy     58\n",
       "7   AIRPLANE SIERRA   Comedy     62\n",
       "8   LONELY ELEPHANT   Comedy     67\n",
       "9      DOOM DANCING   Comedy     68"
      ],
      "text/html": "<div>\n<style scoped>\n    .dataframe tbody tr th:only-of-type {\n        vertical-align: middle;\n    }\n\n    .dataframe tbody tr th {\n        vertical-align: top;\n    }\n\n    .dataframe thead th {\n        text-align: right;\n    }\n</style>\n<table border=\"1\" class=\"dataframe\">\n  <thead>\n    <tr style=\"text-align: right;\">\n      <th></th>\n      <th>title</th>\n      <th>category</th>\n      <th>leght</th>\n    </tr>\n  </thead>\n  <tbody>\n    <tr>\n      <th>0</th>\n      <td>DOWNHILL ENOUGH</td>\n      <td>Comedy</td>\n      <td>47</td>\n    </tr>\n    <tr>\n      <th>1</th>\n      <td>PARADISE SABRINA</td>\n      <td>Comedy</td>\n      <td>48</td>\n    </tr>\n    <tr>\n      <th>2</th>\n      <td>HEAVEN FREEDOM</td>\n      <td>Comedy</td>\n      <td>48</td>\n    </tr>\n    <tr>\n      <th>3</th>\n      <td>HURRICANE AFFAIR</td>\n      <td>Comedy</td>\n      <td>49</td>\n    </tr>\n    <tr>\n      <th>4</th>\n      <td>LION UNCUT</td>\n      <td>Comedy</td>\n      <td>50</td>\n    </tr>\n    <tr>\n      <th>5</th>\n      <td>ZORRO ARK</td>\n      <td>Comedy</td>\n      <td>50</td>\n    </tr>\n    <tr>\n      <th>6</th>\n      <td>CLOSER BANG</td>\n      <td>Comedy</td>\n      <td>58</td>\n    </tr>\n    <tr>\n      <th>7</th>\n      <td>AIRPLANE SIERRA</td>\n      <td>Comedy</td>\n      <td>62</td>\n    </tr>\n    <tr>\n      <th>8</th>\n      <td>LONELY ELEPHANT</td>\n      <td>Comedy</td>\n      <td>67</td>\n    </tr>\n    <tr>\n      <th>9</th>\n      <td>DOOM DANCING</td>\n      <td>Comedy</td>\n      <td>68</td>\n    </tr>\n  </tbody>\n</table>\n</div>"
     },
     "metadata": {},
     "execution_count": 19
    }
   ],
   "source": [
    "mycursor= mydb.cursor()\n",
    "mycursor.execute('''\n",
    "select film.title, category.name as category, min(film.length) as leght\n",
    "from film, category, film_category\n",
    "where (category.name = 'Comedy') and (film.film_id=film_category.film_id) and (category.category_id=film_category.category_id)\n",
    "group by film.title, category.name\n",
    "ORDER BY film.length\n",
    "limit 10\n",
    "''')\n",
    "myresult= mycursor.fetchall()\n",
    "columns= mycursor.column_names\n",
    "tables= pd.DataFrame(myresult, columns=columns)\n",
    "tables"
   ]
  },
  {
   "source": [
    "*penjelasan no 1\n",
    "\n",
    "1. yang pertama membuat kolom tabel yg di inginkan, yaitu ilm.title, category.name as category, min(film.length) as leght menggunakan query select. Penggunaan min(film.length) bertujuan untuk mendapatkan nilai terkecil dari kolom film.length\n",
    "2. memasukkan asal tabel. karena dalam soal ini kita harus melakukan join. tabel tersebut adalah film, category, film_category\n",
    "3. selanjutnya kita membuat syarat yaitu category.name= 'comedy'\n",
    "4. melakukan inplisit join dengan (film.film_id=film_category.film_id) and (category.category_id=film_category.category_id)\n",
    "5. melakukan group by untuk menggupkan film.title, category.name dan juga agar bisa di order\n",
    "6. selanjutnya melakukan order berdasarkan film.length yang sudah kita masukkan query min sebelumnya\n",
    "7. membatasi data menjadi 10 dengan imit 10"
   ],
   "cell_type": "markdown",
   "metadata": {}
  },
  {
   "source": [
    "# 2\n",
    "Tampilkan daftar lengkap kategori film beserta jumlah film tiap kategori & rata-rata harga sewa DVD film tiap kategori. Urutkan data dari kategori dengan jumlah film terbanyak. Kolom yang diwajibkan ada minimal adalah kategori, jumlah film dan rata-rata harga sewa. Output yang diharapkan:"
   ],
   "cell_type": "markdown",
   "metadata": {}
  },
  {
   "cell_type": "code",
   "execution_count": null,
   "metadata": {},
   "outputs": [],
   "source": [
    "film.rental_rate\n",
    "category.name"
   ]
  },
  {
   "cell_type": "code",
   "execution_count": 43,
   "metadata": {},
   "outputs": [
    {
     "output_type": "execute_result",
     "data": {
      "text/plain": [
       "       Category  JumlahMovie RataHargaSewa\n",
       "0   Documentary           68      2.666471\n",
       "1        Horror           56      3.025714\n",
       "2        Family           69      2.758116\n",
       "3       Foreign           73      3.099589\n",
       "4        Comedy           58      3.162414\n",
       "5        Sports           74      3.125135\n",
       "6         Music           51      2.950784\n",
       "7      Classics           57      2.744386\n",
       "8     Animation           66      2.808182\n",
       "9        Action           64      2.646250\n",
       "10          New           63      3.116984\n",
       "11       Sci-Fi           61      3.219508\n",
       "12        Drama           62      3.022258\n",
       "13       Travel           57      3.235614\n",
       "14        Games           61      3.252295\n",
       "15     Children           60      2.890000"
      ],
      "text/html": "<div>\n<style scoped>\n    .dataframe tbody tr th:only-of-type {\n        vertical-align: middle;\n    }\n\n    .dataframe tbody tr th {\n        vertical-align: top;\n    }\n\n    .dataframe thead th {\n        text-align: right;\n    }\n</style>\n<table border=\"1\" class=\"dataframe\">\n  <thead>\n    <tr style=\"text-align: right;\">\n      <th></th>\n      <th>Category</th>\n      <th>JumlahMovie</th>\n      <th>RataHargaSewa</th>\n    </tr>\n  </thead>\n  <tbody>\n    <tr>\n      <th>0</th>\n      <td>Documentary</td>\n      <td>68</td>\n      <td>2.666471</td>\n    </tr>\n    <tr>\n      <th>1</th>\n      <td>Horror</td>\n      <td>56</td>\n      <td>3.025714</td>\n    </tr>\n    <tr>\n      <th>2</th>\n      <td>Family</td>\n      <td>69</td>\n      <td>2.758116</td>\n    </tr>\n    <tr>\n      <th>3</th>\n      <td>Foreign</td>\n      <td>73</td>\n      <td>3.099589</td>\n    </tr>\n    <tr>\n      <th>4</th>\n      <td>Comedy</td>\n      <td>58</td>\n      <td>3.162414</td>\n    </tr>\n    <tr>\n      <th>5</th>\n      <td>Sports</td>\n      <td>74</td>\n      <td>3.125135</td>\n    </tr>\n    <tr>\n      <th>6</th>\n      <td>Music</td>\n      <td>51</td>\n      <td>2.950784</td>\n    </tr>\n    <tr>\n      <th>7</th>\n      <td>Classics</td>\n      <td>57</td>\n      <td>2.744386</td>\n    </tr>\n    <tr>\n      <th>8</th>\n      <td>Animation</td>\n      <td>66</td>\n      <td>2.808182</td>\n    </tr>\n    <tr>\n      <th>9</th>\n      <td>Action</td>\n      <td>64</td>\n      <td>2.646250</td>\n    </tr>\n    <tr>\n      <th>10</th>\n      <td>New</td>\n      <td>63</td>\n      <td>3.116984</td>\n    </tr>\n    <tr>\n      <th>11</th>\n      <td>Sci-Fi</td>\n      <td>61</td>\n      <td>3.219508</td>\n    </tr>\n    <tr>\n      <th>12</th>\n      <td>Drama</td>\n      <td>62</td>\n      <td>3.022258</td>\n    </tr>\n    <tr>\n      <th>13</th>\n      <td>Travel</td>\n      <td>57</td>\n      <td>3.235614</td>\n    </tr>\n    <tr>\n      <th>14</th>\n      <td>Games</td>\n      <td>61</td>\n      <td>3.252295</td>\n    </tr>\n    <tr>\n      <th>15</th>\n      <td>Children</td>\n      <td>60</td>\n      <td>2.890000</td>\n    </tr>\n  </tbody>\n</table>\n</div>"
     },
     "metadata": {},
     "execution_count": 43
    }
   ],
   "source": [
    "mycursor= mydb.cursor()\n",
    "mycursor.execute('''\n",
    "select category.name as Category, count(film.title) as JumlahMovie, avg(film.rental_rate) as RataHargaSewa\n",
    "from film, category, film_category\n",
    "where (film.film_id=film_category.film_id) and (category.category_id=film_category.category_id)\n",
    "group by category.name\n",
    "ORDER BY film.title ASC\n",
    "''')\n",
    "myresult= mycursor.fetchall()\n",
    "columns= mycursor.column_names\n",
    "tables= pd.DataFrame(myresult, columns=columns)\n",
    "tables"
   ]
  },
  {
   "source": [
    "*Penjelasan no 2\n",
    "\n",
    "1. yang pertama membuat kolom tabel yg di inginkan, category.name as Category, count(film.title) as JumlahMovie, avg(film.rental_rate) as RataHargaSewa menggunakan query select. Penggunaan count(film.title) bertujuan untuk menghitung jumlah film. Penggunaan avg(film.rental_rate) bertujuan untuk menghitung avg dri rental_rate\n",
    "2. memasukkan asal tabel. karena dalam soal ini kita harus melakukan join. tabel tersebut adalah film, category, film_category\n",
    "3. melakukan inplisit join dengan (film.film_id=film_category.film_id) and (category.category_id=film_category.category_id)\n",
    "4. melakukan group by untuk menggupkan  category.name dan juga agar bisa di order\n",
    "5. selanjutnya melakukan order berdasarkan film.title yang sudah kita sebelumnya lalu di tambah asc untuk membuat dri besar ke kecil"
   ],
   "cell_type": "markdown",
   "metadata": {}
  },
  {
   "source": [
    "# 3\n",
    "\n",
    "Tampilkan daftar 10 aktor/aktris yang paling banyak membintangi film. Kolom yang ditampilkan minimal: id aktor, nama depan, nama belakang dan jumlah film yang dibintangi. Kemudian urutkan dari aktor/aktris yang membintangi film terbanyak. Output yang diharapkan:"
   ],
   "cell_type": "markdown",
   "metadata": {}
  },
  {
   "cell_type": "code",
   "execution_count": 51,
   "metadata": {},
   "outputs": [
    {
     "output_type": "execute_result",
     "data": {
      "text/plain": [
       "   actor_id first_name last_name  JumlahMovie\n",
       "0         1   PENELOPE   GUINESS           19\n",
       "1       162      OPRAH    KILMER           25\n",
       "2        40     JOHNNY      CAGE           29\n",
       "3       188       ROCK   DUKAKIS           30\n",
       "4        20    LUCILLE     TRACY           30\n",
       "5        53       MENA    TEMPLE           30\n",
       "6       108     WARREN     NOLTE           34\n",
       "7       198       MARY    KEITEL           40\n",
       "8        10  CHRISTIAN     GABLE           22\n",
       "9        30     SANDRA      PECK           19"
      ],
      "text/html": "<div>\n<style scoped>\n    .dataframe tbody tr th:only-of-type {\n        vertical-align: middle;\n    }\n\n    .dataframe tbody tr th {\n        vertical-align: top;\n    }\n\n    .dataframe thead th {\n        text-align: right;\n    }\n</style>\n<table border=\"1\" class=\"dataframe\">\n  <thead>\n    <tr style=\"text-align: right;\">\n      <th></th>\n      <th>actor_id</th>\n      <th>first_name</th>\n      <th>last_name</th>\n      <th>JumlahMovie</th>\n    </tr>\n  </thead>\n  <tbody>\n    <tr>\n      <th>0</th>\n      <td>1</td>\n      <td>PENELOPE</td>\n      <td>GUINESS</td>\n      <td>19</td>\n    </tr>\n    <tr>\n      <th>1</th>\n      <td>162</td>\n      <td>OPRAH</td>\n      <td>KILMER</td>\n      <td>25</td>\n    </tr>\n    <tr>\n      <th>2</th>\n      <td>40</td>\n      <td>JOHNNY</td>\n      <td>CAGE</td>\n      <td>29</td>\n    </tr>\n    <tr>\n      <th>3</th>\n      <td>188</td>\n      <td>ROCK</td>\n      <td>DUKAKIS</td>\n      <td>30</td>\n    </tr>\n    <tr>\n      <th>4</th>\n      <td>20</td>\n      <td>LUCILLE</td>\n      <td>TRACY</td>\n      <td>30</td>\n    </tr>\n    <tr>\n      <th>5</th>\n      <td>53</td>\n      <td>MENA</td>\n      <td>TEMPLE</td>\n      <td>30</td>\n    </tr>\n    <tr>\n      <th>6</th>\n      <td>108</td>\n      <td>WARREN</td>\n      <td>NOLTE</td>\n      <td>34</td>\n    </tr>\n    <tr>\n      <th>7</th>\n      <td>198</td>\n      <td>MARY</td>\n      <td>KEITEL</td>\n      <td>40</td>\n    </tr>\n    <tr>\n      <th>8</th>\n      <td>10</td>\n      <td>CHRISTIAN</td>\n      <td>GABLE</td>\n      <td>22</td>\n    </tr>\n    <tr>\n      <th>9</th>\n      <td>30</td>\n      <td>SANDRA</td>\n      <td>PECK</td>\n      <td>19</td>\n    </tr>\n  </tbody>\n</table>\n</div>"
     },
     "metadata": {},
     "execution_count": 51
    }
   ],
   "source": [
    "mycursor= mydb.cursor()\n",
    "mycursor.execute('''\n",
    "select actor.actor_id, actor.first_name, actor.last_name, count(film.title) as JumlahMovie\n",
    "from film, actor, film_actor\n",
    "where (film.film_id=film_actor.film_id) and (actor.actor_id=film_actor.actor_id)\n",
    "group by actor.actor_id\n",
    "ORDER BY film.title ASC\n",
    "limit 10\n",
    "''')\n",
    "myresult= mycursor.fetchall()\n",
    "columns= mycursor.column_names\n",
    "tables= pd.DataFrame(myresult, columns=columns)\n",
    "tables"
   ]
  },
  {
   "source": [
    "*Penjelasan no 3\n",
    "\n",
    "1. yang pertama membuat kolom tabel yg di inginkan, select actor.actor_id, actor.first_name, actor.last_name, count(film.title) as JumlahMovie menggunakan query select. Penggunaan count(film.title) bertujuan untuk menghitung jumlah film. Penggunaan avg(film.rental_rate) bertujuan untuk menghitung avg dri rental_rate\n",
    "2. memasukkan asal tabel. karena dalam soal ini kita harus melakukan join. tabel tersebut adalah film, actor, film_actor\n",
    "3. melakukan inplisit join dengan (film.film_id=film_actor.film_id) and (actor.actor_id=film_actor.actor_id)\n",
    "4. melakukan group by untuk menggupkan  actor.actor_id dan juga agar bisa di order\n",
    "5. selanjutnya melakukan order berdasarkan film.title yang sudah kita sebelumnya lalu di tambah asc untuk membuat dri besar ke kecil\n",
    "6. membuat limit 10"
   ],
   "cell_type": "markdown",
   "metadata": {}
  },
  {
   "source": [
    "# 4\n",
    "Dari soal sebelumnya diketahui Gina Degeneres merupakan aktris yang paling banyak membintangi film, dengan total 42 judul film. Kategori film apakah yang paling banyak dibintanginya? Untuk mengetahuinya, tampilkan daftar kategori film beserta jumlah film yang pernah dibintangi oleh Gina Degeneres. Kolom yang diwajibkan ada yaitu kategori film dan jumlah film yang dibintangi. Output yang diharapkan:"
   ],
   "cell_type": "markdown",
   "metadata": {}
  },
  {
   "cell_type": "code",
   "execution_count": 64,
   "metadata": {},
   "outputs": [
    {
     "output_type": "execute_result",
     "data": {
      "text/plain": [
       "       Category  Jumlah_Movie\n",
       "0   Documentary             3\n",
       "1       Foreign             2\n",
       "2         Music             4\n",
       "3           New             1\n",
       "4        Sci-Fi             7\n",
       "5        Action             3\n",
       "6         Drama             2\n",
       "7     Animation             4\n",
       "8        Horror             1\n",
       "9        Family             4\n",
       "10       Comedy             3\n",
       "11     Children             2\n",
       "12     Classics             2\n",
       "13       Sports             2\n",
       "14        Games             1\n",
       "15       Travel             1"
      ],
      "text/html": "<div>\n<style scoped>\n    .dataframe tbody tr th:only-of-type {\n        vertical-align: middle;\n    }\n\n    .dataframe tbody tr th {\n        vertical-align: top;\n    }\n\n    .dataframe thead th {\n        text-align: right;\n    }\n</style>\n<table border=\"1\" class=\"dataframe\">\n  <thead>\n    <tr style=\"text-align: right;\">\n      <th></th>\n      <th>Category</th>\n      <th>Jumlah_Movie</th>\n    </tr>\n  </thead>\n  <tbody>\n    <tr>\n      <th>0</th>\n      <td>Documentary</td>\n      <td>3</td>\n    </tr>\n    <tr>\n      <th>1</th>\n      <td>Foreign</td>\n      <td>2</td>\n    </tr>\n    <tr>\n      <th>2</th>\n      <td>Music</td>\n      <td>4</td>\n    </tr>\n    <tr>\n      <th>3</th>\n      <td>New</td>\n      <td>1</td>\n    </tr>\n    <tr>\n      <th>4</th>\n      <td>Sci-Fi</td>\n      <td>7</td>\n    </tr>\n    <tr>\n      <th>5</th>\n      <td>Action</td>\n      <td>3</td>\n    </tr>\n    <tr>\n      <th>6</th>\n      <td>Drama</td>\n      <td>2</td>\n    </tr>\n    <tr>\n      <th>7</th>\n      <td>Animation</td>\n      <td>4</td>\n    </tr>\n    <tr>\n      <th>8</th>\n      <td>Horror</td>\n      <td>1</td>\n    </tr>\n    <tr>\n      <th>9</th>\n      <td>Family</td>\n      <td>4</td>\n    </tr>\n    <tr>\n      <th>10</th>\n      <td>Comedy</td>\n      <td>3</td>\n    </tr>\n    <tr>\n      <th>11</th>\n      <td>Children</td>\n      <td>2</td>\n    </tr>\n    <tr>\n      <th>12</th>\n      <td>Classics</td>\n      <td>2</td>\n    </tr>\n    <tr>\n      <th>13</th>\n      <td>Sports</td>\n      <td>2</td>\n    </tr>\n    <tr>\n      <th>14</th>\n      <td>Games</td>\n      <td>1</td>\n    </tr>\n    <tr>\n      <th>15</th>\n      <td>Travel</td>\n      <td>1</td>\n    </tr>\n  </tbody>\n</table>\n</div>"
     },
     "metadata": {},
     "execution_count": 64
    }
   ],
   "source": [
    "mycursor= mydb.cursor()\n",
    "mycursor.execute('''\n",
    "select category.name as Category, count(film.title) as Jumlah_Movie\n",
    "from film, actor, film_actor, category, film_category\n",
    "where (actor.first_name= 'GINA') and (actor.last_name='DEGENERES') and (film.film_id=film_actor.film_id) and (actor.actor_id=film_actor.actor_id) and (film.film_id=film_category.film_id) and (category.category_id=film_category.category_id)\n",
    "group by category.name\n",
    "ORDER BY film.title\n",
    "''')\n",
    "myresult= mycursor.fetchall()\n",
    "columns= mycursor.column_names\n",
    "tables= pd.DataFrame(myresult, columns=columns)\n",
    "tables"
   ]
  },
  {
   "source": [
    "*Penjelasan no 4\n",
    "\n",
    "1. yang pertama membuat kolom tabel yg di inginkan, category.name as Category, count(film.title) as Jumlah_Movie menggunakan query select. Penggunaan count(film.title) bertujuan untuk menghitung jumlah film. \n",
    "2. memasukkan asal tabel. karena dalam soal ini kita harus melakukan join. tabel tersebut adalah film, actor, film_actor, category, film_category\n",
    "3. melakukan inplisit join dengan (film.film_id=film_actor.film_id) and (actor.actor_id=film_actor.actor_id) and (film.film_id=film_category.film_id) and (category.category_id=film_category.category_id)\n",
    "4. membuat syarat dengan where (actor.first_name= 'GINA') and (actor.last_name='DEGENERES')\n",
    "5. melakukan group by untuk menggupkan  category.name dan juga agar bisa di order\n",
    "6. selanjutnya melakukan order berdasarkan film.title "
   ],
   "cell_type": "markdown",
   "metadata": {}
  },
  {
   "source": [
    "# 5\n",
    "Dari soal sebelumnya diketahui Gina Degeneres paling banyak membintangi film bergenre sciencefiction, dengan total 7 judul film. Tampilkan daftar judul film sci-fi yang pernah dibintangi oleh Gina Degeneres. Kolom yang diwajibkan ada yaitu judul film dan kategorinya. Output yang diharapkan:"
   ],
   "cell_type": "markdown",
   "metadata": {}
  },
  {
   "cell_type": "code",
   "execution_count": 71,
   "metadata": {},
   "outputs": [
    {
     "output_type": "execute_result",
     "data": {
      "text/plain": [
       "                 title category\n",
       "0  CHARIOTS CONSPIRACY   Sci-Fi\n",
       "1  COLDBLOODED DARLING   Sci-Fi\n",
       "2       FRISCO FORREST   Sci-Fi\n",
       "3    GOODFELLAS SALUTE   Sci-Fi\n",
       "4      LICENSE WEEKEND   Sci-Fi\n",
       "5         OPEN AFRICAN   Sci-Fi\n",
       "6  SPIRITED CASUALTIES   Sci-Fi"
      ],
      "text/html": "<div>\n<style scoped>\n    .dataframe tbody tr th:only-of-type {\n        vertical-align: middle;\n    }\n\n    .dataframe tbody tr th {\n        vertical-align: top;\n    }\n\n    .dataframe thead th {\n        text-align: right;\n    }\n</style>\n<table border=\"1\" class=\"dataframe\">\n  <thead>\n    <tr style=\"text-align: right;\">\n      <th></th>\n      <th>title</th>\n      <th>category</th>\n    </tr>\n  </thead>\n  <tbody>\n    <tr>\n      <th>0</th>\n      <td>CHARIOTS CONSPIRACY</td>\n      <td>Sci-Fi</td>\n    </tr>\n    <tr>\n      <th>1</th>\n      <td>COLDBLOODED DARLING</td>\n      <td>Sci-Fi</td>\n    </tr>\n    <tr>\n      <th>2</th>\n      <td>FRISCO FORREST</td>\n      <td>Sci-Fi</td>\n    </tr>\n    <tr>\n      <th>3</th>\n      <td>GOODFELLAS SALUTE</td>\n      <td>Sci-Fi</td>\n    </tr>\n    <tr>\n      <th>4</th>\n      <td>LICENSE WEEKEND</td>\n      <td>Sci-Fi</td>\n    </tr>\n    <tr>\n      <th>5</th>\n      <td>OPEN AFRICAN</td>\n      <td>Sci-Fi</td>\n    </tr>\n    <tr>\n      <th>6</th>\n      <td>SPIRITED CASUALTIES</td>\n      <td>Sci-Fi</td>\n    </tr>\n  </tbody>\n</table>\n</div>"
     },
     "metadata": {},
     "execution_count": 71
    }
   ],
   "source": [
    "mycursor= mydb.cursor()\n",
    "mycursor.execute('''\n",
    "select film.title as title, category.name as category\n",
    "from film, actor, film_actor, category, film_category\n",
    "where (actor.first_name= 'GINA') and (actor.last_name='DEGENERES') and (category.name='Sci-Fi') and  (film.film_id=film_actor.film_id) and (actor.actor_id=film_actor.actor_id) and (film.film_id=film_category.film_id) and (category.category_id=film_category.category_id)\n",
    "''')\n",
    "myresult= mycursor.fetchall()\n",
    "columns= mycursor.column_names\n",
    "tables= pd.DataFrame(myresult, columns=columns)\n",
    "tables"
   ]
  },
  {
   "cell_type": "code",
   "execution_count": null,
   "metadata": {},
   "outputs": [],
   "source": [
    "*Penjelasan no 5\n",
    "\n",
    "1. yang pertama membuat kolom tabel yg di inginkan, film.title as title, category.name as category menggunakan query select.\n",
    "2. memasukkan asal tabel. karena dalam soal ini kita harus melakukan join. tabel tersebut adalah film, actor, film_actor, category, film_category\n",
    "3. melakukan inplisit join dengan (film.film_id=film_actor.film_id) and (actor.actor_id=film_actor.actor_id) and (film.film_id=film_category.film_id) and (category.category_id=film_category.category_id)\n",
    "4. membuat syarat dengan where (actor.first_name= 'GINA') and (actor.last_name='DEGENERES') and (category.name='Sci-Fi')"
   ]
  }
 ]
}